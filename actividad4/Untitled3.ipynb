{
 "metadata": {
  "name": "",
  "signature": "sha256:26d552c6acdd0797aaf923740ec07ce988b850c959dfcef5147aa133fbbe5be1"
 },
 "nbformat": 3,
 "nbformat_minor": 0,
 "worksheets": [
  {
   "cells": [
    {
     "cell_type": "code",
     "collapsed": false,
     "input": [
      "import pandas as pd\n",
      "\n",
      "import numpy as np\n",
      "\n",
      "import matplotlib as plt\n",
      "\n",
      "df = pd.read_csv (\"/home/dmriosq/computacional1/computacional1/actividad4/prueba.csv\")"
     ],
     "language": "python",
     "metadata": {},
     "outputs": [],
     "prompt_number": 1
    },
    {
     "cell_type": "code",
     "collapsed": false,
     "input": [
      "%matplotlib inline\n"
     ],
     "language": "python",
     "metadata": {},
     "outputs": [],
     "prompt_number": 10
    },
    {
     "cell_type": "code",
     "collapsed": false,
     "input": [],
     "language": "python",
     "metadata": {},
     "outputs": []
    },
    {
     "cell_type": "code",
     "collapsed": false,
     "input": [
      "df.head(20)"
     ],
     "language": "python",
     "metadata": {},
     "outputs": [
      {
       "html": [
        "<div style=\"max-height:1000px;max-width:1500px;overflow:auto;\">\n",
        "<table border=\"1\" class=\"dataframe\">\n",
        "  <thead>\n",
        "    <tr style=\"text-align: right;\">\n",
        "      <th></th>\n",
        "      <th>PRES</th>\n",
        "      <th>HGHT</th>\n",
        "      <th>TEMP</th>\n",
        "      <th>DWPT</th>\n",
        "      <th>RELH</th>\n",
        "      <th>MIXR</th>\n",
        "      <th>DRCT</th>\n",
        "      <th>SKNT</th>\n",
        "      <th>THTA</th>\n",
        "      <th>THTE</th>\n",
        "      <th>THTV</th>\n",
        "    </tr>\n",
        "  </thead>\n",
        "  <tbody>\n",
        "    <tr>\n",
        "      <th>0 </th>\n",
        "      <td> 927.0</td>\n",
        "      <td>  751</td>\n",
        "      <td> 27.4</td>\n",
        "      <td> 18.4</td>\n",
        "      <td> 58</td>\n",
        "      <td> 14.58</td>\n",
        "      <td> 315</td>\n",
        "      <td>  3</td>\n",
        "      <td> 307.1</td>\n",
        "      <td> 351.4</td>\n",
        "      <td> 309.8</td>\n",
        "    </tr>\n",
        "    <tr>\n",
        "      <th>1 </th>\n",
        "      <td> 925.0</td>\n",
        "      <td>  767</td>\n",
        "      <td> 27.6</td>\n",
        "      <td> 17.6</td>\n",
        "      <td> 54</td>\n",
        "      <td> 13.88</td>\n",
        "      <td> 320</td>\n",
        "      <td>  3</td>\n",
        "      <td> 307.5</td>\n",
        "      <td> 349.7</td>\n",
        "      <td> 310.1</td>\n",
        "    </tr>\n",
        "    <tr>\n",
        "      <th>2 </th>\n",
        "      <td> 909.7</td>\n",
        "      <td>  914</td>\n",
        "      <td> 26.2</td>\n",
        "      <td> 17.3</td>\n",
        "      <td> 58</td>\n",
        "      <td> 13.82</td>\n",
        "      <td> 330</td>\n",
        "      <td>  3</td>\n",
        "      <td> 307.5</td>\n",
        "      <td> 349.5</td>\n",
        "      <td> 310.1</td>\n",
        "    </tr>\n",
        "    <tr>\n",
        "      <th>3 </th>\n",
        "      <td> 878.7</td>\n",
        "      <td> 1219</td>\n",
        "      <td> 23.2</td>\n",
        "      <td> 16.6</td>\n",
        "      <td> 66</td>\n",
        "      <td> 13.69</td>\n",
        "      <td> 280</td>\n",
        "      <td>  3</td>\n",
        "      <td> 307.5</td>\n",
        "      <td> 349.0</td>\n",
        "      <td> 310.0</td>\n",
        "    </tr>\n",
        "    <tr>\n",
        "      <th>4 </th>\n",
        "      <td> 871.0</td>\n",
        "      <td> 1297</td>\n",
        "      <td> 22.4</td>\n",
        "      <td> 16.4</td>\n",
        "      <td> 69</td>\n",
        "      <td> 13.66</td>\n",
        "      <td> 269</td>\n",
        "      <td>  5</td>\n",
        "      <td> 307.4</td>\n",
        "      <td> 348.9</td>\n",
        "      <td> 310.0</td>\n",
        "    </tr>\n",
        "    <tr>\n",
        "      <th>5 </th>\n",
        "      <td> 860.0</td>\n",
        "      <td> 1408</td>\n",
        "      <td> 23.6</td>\n",
        "      <td> 13.6</td>\n",
        "      <td> 53</td>\n",
        "      <td> 11.51</td>\n",
        "      <td> 254</td>\n",
        "      <td>  7</td>\n",
        "      <td> 309.8</td>\n",
        "      <td> 345.2</td>\n",
        "      <td> 312.0</td>\n",
        "    </tr>\n",
        "    <tr>\n",
        "      <th>6 </th>\n",
        "      <td> 850.0</td>\n",
        "      <td> 1510</td>\n",
        "      <td> 22.8</td>\n",
        "      <td> 14.8</td>\n",
        "      <td> 61</td>\n",
        "      <td> 12.61</td>\n",
        "      <td> 240</td>\n",
        "      <td>  9</td>\n",
        "      <td> 310.0</td>\n",
        "      <td> 348.8</td>\n",
        "      <td> 312.4</td>\n",
        "    </tr>\n",
        "    <tr>\n",
        "      <th>7 </th>\n",
        "      <td> 819.2</td>\n",
        "      <td> 1829</td>\n",
        "      <td> 19.9</td>\n",
        "      <td> 13.7</td>\n",
        "      <td> 67</td>\n",
        "      <td> 12.16</td>\n",
        "      <td> 225</td>\n",
        "      <td>  9</td>\n",
        "      <td> 310.3</td>\n",
        "      <td> 347.7</td>\n",
        "      <td> 312.5</td>\n",
        "    </tr>\n",
        "    <tr>\n",
        "      <th>8 </th>\n",
        "      <td> 790.8</td>\n",
        "      <td> 2134</td>\n",
        "      <td> 17.2</td>\n",
        "      <td> 12.6</td>\n",
        "      <td> 75</td>\n",
        "      <td> 11.74</td>\n",
        "      <td> 225</td>\n",
        "      <td> 12</td>\n",
        "      <td> 310.5</td>\n",
        "      <td> 346.6</td>\n",
        "      <td> 312.6</td>\n",
        "    </tr>\n",
        "    <tr>\n",
        "      <th>9 </th>\n",
        "      <td> 785.0</td>\n",
        "      <td> 2197</td>\n",
        "      <td> 16.6</td>\n",
        "      <td> 12.4</td>\n",
        "      <td> 76</td>\n",
        "      <td> 11.66</td>\n",
        "      <td> 222</td>\n",
        "      <td> 12</td>\n",
        "      <td> 310.5</td>\n",
        "      <td> 346.4</td>\n",
        "      <td> 312.7</td>\n",
        "    </tr>\n",
        "    <tr>\n",
        "      <th>10</th>\n",
        "      <td> 763.0</td>\n",
        "      <td> 2438</td>\n",
        "      <td> 14.9</td>\n",
        "      <td> 10.3</td>\n",
        "      <td> 74</td>\n",
        "      <td> 10.44</td>\n",
        "      <td> 210</td>\n",
        "      <td> 13</td>\n",
        "      <td> 311.2</td>\n",
        "      <td> 343.5</td>\n",
        "      <td> 313.1</td>\n",
        "    </tr>\n",
        "    <tr>\n",
        "      <th>11</th>\n",
        "      <td> 747.0</td>\n",
        "      <td> 2618</td>\n",
        "      <td> 13.6</td>\n",
        "      <td>  8.8</td>\n",
        "      <td> 73</td>\n",
        "      <td>  9.60</td>\n",
        "      <td> 225</td>\n",
        "      <td> 12</td>\n",
        "      <td> 311.7</td>\n",
        "      <td> 341.5</td>\n",
        "      <td> 313.5</td>\n",
        "    </tr>\n",
        "    <tr>\n",
        "      <th>12</th>\n",
        "      <td> 736.0</td>\n",
        "      <td> 2743</td>\n",
        "      <td> 12.6</td>\n",
        "      <td>  8.3</td>\n",
        "      <td> 75</td>\n",
        "      <td>  9.43</td>\n",
        "      <td> 235</td>\n",
        "      <td> 11</td>\n",
        "      <td> 311.9</td>\n",
        "      <td> 341.3</td>\n",
        "      <td> 313.7</td>\n",
        "    </tr>\n",
        "    <tr>\n",
        "      <th>13</th>\n",
        "      <td> 709.7</td>\n",
        "      <td> 3048</td>\n",
        "      <td> 10.3</td>\n",
        "      <td>  7.1</td>\n",
        "      <td> 81</td>\n",
        "      <td>  9.02</td>\n",
        "      <td> 240</td>\n",
        "      <td> 14</td>\n",
        "      <td> 312.6</td>\n",
        "      <td> 340.8</td>\n",
        "      <td> 314.3</td>\n",
        "    </tr>\n",
        "    <tr>\n",
        "      <th>14</th>\n",
        "      <td> 700.0</td>\n",
        "      <td> 3163</td>\n",
        "      <td>  9.4</td>\n",
        "      <td>  6.7</td>\n",
        "      <td> 83</td>\n",
        "      <td>  8.87</td>\n",
        "      <td> 240</td>\n",
        "      <td> 14</td>\n",
        "      <td> 312.9</td>\n",
        "      <td> 340.6</td>\n",
        "      <td> 314.5</td>\n",
        "    </tr>\n",
        "    <tr>\n",
        "      <th>15</th>\n",
        "      <td> 698.0</td>\n",
        "      <td> 3187</td>\n",
        "      <td>  9.2</td>\n",
        "      <td>  6.6</td>\n",
        "      <td> 84</td>\n",
        "      <td>  8.83</td>\n",
        "      <td> 240</td>\n",
        "      <td> 14</td>\n",
        "      <td> 312.9</td>\n",
        "      <td> 340.6</td>\n",
        "      <td> 314.6</td>\n",
        "    </tr>\n",
        "    <tr>\n",
        "      <th>16</th>\n",
        "      <td> 659.3</td>\n",
        "      <td> 3658</td>\n",
        "      <td>  6.6</td>\n",
        "      <td>  2.1</td>\n",
        "      <td> 73</td>\n",
        "      <td>  6.79</td>\n",
        "      <td> 235</td>\n",
        "      <td> 19</td>\n",
        "      <td> 315.1</td>\n",
        "      <td> 336.7</td>\n",
        "      <td> 316.4</td>\n",
        "    </tr>\n",
        "    <tr>\n",
        "      <th>17</th>\n",
        "      <td> 657.0</td>\n",
        "      <td> 3687</td>\n",
        "      <td>  6.4</td>\n",
        "      <td>  1.8</td>\n",
        "      <td> 72</td>\n",
        "      <td>  6.68</td>\n",
        "      <td> 235</td>\n",
        "      <td> 19</td>\n",
        "      <td> 315.2</td>\n",
        "      <td> 336.5</td>\n",
        "      <td> 316.5</td>\n",
        "    </tr>\n",
        "    <tr>\n",
        "      <th>18</th>\n",
        "      <td> 640.0</td>\n",
        "      <td> 3901</td>\n",
        "      <td>  5.2</td>\n",
        "      <td> -1.8</td>\n",
        "      <td> 61</td>\n",
        "      <td>  5.27</td>\n",
        "      <td> 235</td>\n",
        "      <td> 20</td>\n",
        "      <td> 316.2</td>\n",
        "      <td> 333.3</td>\n",
        "      <td> 317.2</td>\n",
        "    </tr>\n",
        "    <tr>\n",
        "      <th>19</th>\n",
        "      <td> 613.0</td>\n",
        "      <td> 4252</td>\n",
        "      <td>  2.6</td>\n",
        "      <td> -4.4</td>\n",
        "      <td> 60</td>\n",
        "      <td>  4.53</td>\n",
        "      <td> 235</td>\n",
        "      <td> 21</td>\n",
        "      <td> 317.1</td>\n",
        "      <td> 331.9</td>\n",
        "      <td> 318.0</td>\n",
        "    </tr>\n",
        "  </tbody>\n",
        "</table>\n",
        "</div>"
       ],
       "metadata": {},
       "output_type": "pyout",
       "prompt_number": 16,
       "text": [
        "     PRES  HGHT  TEMP  DWPT  RELH   MIXR  DRCT  SKNT   THTA   THTE   THTV\n",
        "0   927.0   751  27.4  18.4    58  14.58   315     3  307.1  351.4  309.8\n",
        "1   925.0   767  27.6  17.6    54  13.88   320     3  307.5  349.7  310.1\n",
        "2   909.7   914  26.2  17.3    58  13.82   330     3  307.5  349.5  310.1\n",
        "3   878.7  1219  23.2  16.6    66  13.69   280     3  307.5  349.0  310.0\n",
        "4   871.0  1297  22.4  16.4    69  13.66   269     5  307.4  348.9  310.0\n",
        "5   860.0  1408  23.6  13.6    53  11.51   254     7  309.8  345.2  312.0\n",
        "6   850.0  1510  22.8  14.8    61  12.61   240     9  310.0  348.8  312.4\n",
        "7   819.2  1829  19.9  13.7    67  12.16   225     9  310.3  347.7  312.5\n",
        "8   790.8  2134  17.2  12.6    75  11.74   225    12  310.5  346.6  312.6\n",
        "9   785.0  2197  16.6  12.4    76  11.66   222    12  310.5  346.4  312.7\n",
        "10  763.0  2438  14.9  10.3    74  10.44   210    13  311.2  343.5  313.1\n",
        "11  747.0  2618  13.6   8.8    73   9.60   225    12  311.7  341.5  313.5\n",
        "12  736.0  2743  12.6   8.3    75   9.43   235    11  311.9  341.3  313.7\n",
        "13  709.7  3048  10.3   7.1    81   9.02   240    14  312.6  340.8  314.3\n",
        "14  700.0  3163   9.4   6.7    83   8.87   240    14  312.9  340.6  314.5\n",
        "15  698.0  3187   9.2   6.6    84   8.83   240    14  312.9  340.6  314.6\n",
        "16  659.3  3658   6.6   2.1    73   6.79   235    19  315.1  336.7  316.4\n",
        "17  657.0  3687   6.4   1.8    72   6.68   235    19  315.2  336.5  316.5\n",
        "18  640.0  3901   5.2  -1.8    61   5.27   235    20  316.2  333.3  317.2\n",
        "19  613.0  4252   2.6  -4.4    60   4.53   235    21  317.1  331.9  318.0"
       ]
      }
     ],
     "prompt_number": 16
    },
    {
     "cell_type": "code",
     "collapsed": false,
     "input": [
      "df.columns"
     ],
     "language": "python",
     "metadata": {},
     "outputs": [
      {
       "metadata": {},
       "output_type": "pyout",
       "prompt_number": 17,
       "text": [
        "Index([u'PRES', u'HGHT', u'TEMP', u'DWPT', u'RELH', u'MIXR', u'DRCT', u'SKNT', u'THTA', u'THTE', u'THTV'], dtype='object')"
       ]
      }
     ],
     "prompt_number": 17
    },
    {
     "cell_type": "code",
     "collapsed": false,
     "input": [
      "\n"
     ],
     "language": "python",
     "metadata": {},
     "outputs": [
      {
       "ename": "NameError",
       "evalue": "name 'time' is not defined",
       "output_type": "pyerr",
       "traceback": [
        "\u001b[0;31m---------------------------------------------------------------------------\u001b[0m\n\u001b[0;31mNameError\u001b[0m                                 Traceback (most recent call last)",
        "\u001b[0;32m<ipython-input-24-f957e365eda9>\u001b[0m in \u001b[0;36m<module>\u001b[0;34m()\u001b[0m\n\u001b[1;32m      7\u001b[0m \u001b[0mfig\u001b[0m \u001b[0;34m=\u001b[0m \u001b[0mplt\u001b[0m\u001b[0;34m.\u001b[0m\u001b[0mfigure\u001b[0m\u001b[0;34m(\u001b[0m\u001b[0;34m)\u001b[0m\u001b[0;34m\u001b[0m\u001b[0m\n\u001b[1;32m      8\u001b[0m \u001b[0max\u001b[0m \u001b[0;34m=\u001b[0m \u001b[0mfig\u001b[0m\u001b[0;34m.\u001b[0m\u001b[0madd_subplot\u001b[0m\u001b[0;34m(\u001b[0m\u001b[0;36m111\u001b[0m\u001b[0;34m)\u001b[0m\u001b[0;34m\u001b[0m\u001b[0m\n\u001b[0;32m----> 9\u001b[0;31m \u001b[0max\u001b[0m\u001b[0;34m.\u001b[0m\u001b[0mplot\u001b[0m\u001b[0;34m(\u001b[0m\u001b[0mtime\u001b[0m\u001b[0;34m,\u001b[0m \u001b[0mSwdown\u001b[0m\u001b[0;34m,\u001b[0m \u001b[0mlabel\u001b[0m \u001b[0;34m=\u001b[0m \u001b[0;34m'Swdown'\u001b[0m\u001b[0;34m)\u001b[0m\u001b[0;34m\u001b[0m\u001b[0m\n\u001b[0m\u001b[1;32m     10\u001b[0m \u001b[0max\u001b[0m\u001b[0;34m.\u001b[0m\u001b[0mplot\u001b[0m\u001b[0;34m(\u001b[0m\u001b[0mtime\u001b[0m\u001b[0;34m,\u001b[0m \u001b[0mRn\u001b[0m\u001b[0;34m,\u001b[0m \u001b[0mlabel\u001b[0m \u001b[0;34m=\u001b[0m \u001b[0;34m'Rn'\u001b[0m\u001b[0;34m)\u001b[0m\u001b[0;34m\u001b[0m\u001b[0m\n\u001b[1;32m     11\u001b[0m \u001b[0max2\u001b[0m \u001b[0;34m=\u001b[0m \u001b[0max\u001b[0m\u001b[0;34m.\u001b[0m\u001b[0mtwinx\u001b[0m\u001b[0;34m(\u001b[0m\u001b[0;34m)\u001b[0m\u001b[0;34m\u001b[0m\u001b[0m\n",
        "\u001b[0;31mNameError\u001b[0m: name 'time' is not defined"
       ]
      },
      {
       "metadata": {},
       "output_type": "display_data",
       "png": "[encoded data removed]",
       "text": [
        "<matplotlib.figure.Figure at 0x7f7508795350>"
       ]
      }
     ],
     "prompt_number": 24
    },
    {
     "cell_type": "code",
     "collapsed": false,
     "input": [
      "from pylab import figure, show, legend, ylabel\n",
      "import numpy as np\n",
      "import matplotlib.pyplot as plt\n",
      "from matplotlib import rc\n",
      "\n",
      "plt.plotfile('df', cols=(1, 3), names=(u'PRES', u'TEMP'), marker='o')\n",
      "plt.show()"
     ],
     "language": "python",
     "metadata": {},
     "outputs": [
      {
       "ename": "IOError",
       "evalue": "[Errno 2] No such file or directory: 'df'",
       "output_type": "pyerr",
       "traceback": [
        "\u001b[0;31m---------------------------------------------------------------------------\u001b[0m\n\u001b[0;31mIOError\u001b[0m                                   Traceback (most recent call last)",
        "\u001b[0;32m<ipython-input-6-5e65f4979817>\u001b[0m in \u001b[0;36m<module>\u001b[0;34m()\u001b[0m\n\u001b[1;32m      4\u001b[0m \u001b[0;32mfrom\u001b[0m \u001b[0mmatplotlib\u001b[0m \u001b[0;32mimport\u001b[0m \u001b[0mrc\u001b[0m\u001b[0;34m\u001b[0m\u001b[0m\n\u001b[1;32m      5\u001b[0m \u001b[0;34m\u001b[0m\u001b[0m\n\u001b[0;32m----> 6\u001b[0;31m \u001b[0mplt\u001b[0m\u001b[0;34m.\u001b[0m\u001b[0mplotfile\u001b[0m\u001b[0;34m(\u001b[0m\u001b[0;34m'df'\u001b[0m\u001b[0;34m,\u001b[0m \u001b[0mcols\u001b[0m\u001b[0;34m=\u001b[0m\u001b[0;34m(\u001b[0m\u001b[0;36m1\u001b[0m\u001b[0;34m,\u001b[0m \u001b[0;36m3\u001b[0m\u001b[0;34m)\u001b[0m\u001b[0;34m,\u001b[0m \u001b[0mnames\u001b[0m\u001b[0;34m=\u001b[0m\u001b[0;34m(\u001b[0m\u001b[0;34mu'PRES'\u001b[0m\u001b[0;34m,\u001b[0m \u001b[0;34mu'TEMP'\u001b[0m\u001b[0;34m)\u001b[0m\u001b[0;34m,\u001b[0m \u001b[0mmarker\u001b[0m\u001b[0;34m=\u001b[0m\u001b[0;34m'o'\u001b[0m\u001b[0;34m)\u001b[0m\u001b[0;34m\u001b[0m\u001b[0m\n\u001b[0m\u001b[1;32m      7\u001b[0m \u001b[0mplt\u001b[0m\u001b[0;34m.\u001b[0m\u001b[0mshow\u001b[0m\u001b[0;34m(\u001b[0m\u001b[0;34m)\u001b[0m\u001b[0;34m\u001b[0m\u001b[0m\n",
        "\u001b[0;32m/usr/lib/python2.7/dist-packages/matplotlib/pyplot.pyc\u001b[0m in \u001b[0;36mplotfile\u001b[0;34m(fname, cols, plotfuncs, comments, skiprows, checkrows, delimiter, names, subplots, newfig, **kwargs)\u001b[0m\n\u001b[1;32m   2347\u001b[0m         \u001b[0mplotfuncs\u001b[0m \u001b[0;34m=\u001b[0m \u001b[0mdict\u001b[0m\u001b[0;34m(\u001b[0m\u001b[0;34m)\u001b[0m\u001b[0;34m\u001b[0m\u001b[0m\n\u001b[1;32m   2348\u001b[0m     r = mlab.csv2rec(fname, comments=comments, skiprows=skiprows,\n\u001b[0;32m-> 2349\u001b[0;31m                      checkrows=checkrows, delimiter=delimiter, names=names)\n\u001b[0m\u001b[1;32m   2350\u001b[0m \u001b[0;34m\u001b[0m\u001b[0m\n\u001b[1;32m   2351\u001b[0m     \u001b[0;32mdef\u001b[0m \u001b[0mgetname_val\u001b[0m\u001b[0;34m(\u001b[0m\u001b[0midentifier\u001b[0m\u001b[0;34m)\u001b[0m\u001b[0;34m:\u001b[0m\u001b[0;34m\u001b[0m\u001b[0m\n",
        "\u001b[0;32m/usr/lib/python2.7/dist-packages/matplotlib/mlab.pyc\u001b[0m in \u001b[0;36mcsv2rec\u001b[0;34m(fname, comments, skiprows, checkrows, delimiter, converterd, names, missing, missingd, use_mrecords, dayfirst, yearfirst)\u001b[0m\n\u001b[1;32m   2831\u001b[0m     \u001b[0;32mimport\u001b[0m \u001b[0mdatetime\u001b[0m\u001b[0;34m\u001b[0m\u001b[0m\n\u001b[1;32m   2832\u001b[0m \u001b[0;34m\u001b[0m\u001b[0m\n\u001b[0;32m-> 2833\u001b[0;31m     \u001b[0mfh\u001b[0m \u001b[0;34m=\u001b[0m \u001b[0mcbook\u001b[0m\u001b[0;34m.\u001b[0m\u001b[0mto_filehandle\u001b[0m\u001b[0;34m(\u001b[0m\u001b[0mfname\u001b[0m\u001b[0;34m)\u001b[0m\u001b[0;34m\u001b[0m\u001b[0m\n\u001b[0m\u001b[1;32m   2834\u001b[0m \u001b[0;34m\u001b[0m\u001b[0m\n\u001b[1;32m   2835\u001b[0m     \u001b[0mdelimiter\u001b[0m \u001b[0;34m=\u001b[0m \u001b[0mstr\u001b[0m\u001b[0;34m(\u001b[0m\u001b[0mdelimiter\u001b[0m\u001b[0;34m)\u001b[0m\u001b[0;34m\u001b[0m\u001b[0m\n",
        "\u001b[0;32m/usr/lib/python2.7/dist-packages/matplotlib/cbook.pyc\u001b[0m in \u001b[0;36mto_filehandle\u001b[0;34m(fname, flag, return_opened)\u001b[0m\n\u001b[1;32m    760\u001b[0m             \u001b[0mfh\u001b[0m \u001b[0;34m=\u001b[0m \u001b[0mbz2\u001b[0m\u001b[0;34m.\u001b[0m\u001b[0mBZ2File\u001b[0m\u001b[0;34m(\u001b[0m\u001b[0mfname\u001b[0m\u001b[0;34m,\u001b[0m \u001b[0mflag\u001b[0m\u001b[0;34m)\u001b[0m\u001b[0;34m\u001b[0m\u001b[0m\n\u001b[1;32m    761\u001b[0m         \u001b[0;32melse\u001b[0m\u001b[0;34m:\u001b[0m\u001b[0;34m\u001b[0m\u001b[0m\n\u001b[0;32m--> 762\u001b[0;31m             \u001b[0mfh\u001b[0m \u001b[0;34m=\u001b[0m \u001b[0mopen\u001b[0m\u001b[0;34m(\u001b[0m\u001b[0mfname\u001b[0m\u001b[0;34m,\u001b[0m \u001b[0mflag\u001b[0m\u001b[0;34m)\u001b[0m\u001b[0;34m\u001b[0m\u001b[0m\n\u001b[0m\u001b[1;32m    763\u001b[0m         \u001b[0mopened\u001b[0m \u001b[0;34m=\u001b[0m \u001b[0mTrue\u001b[0m\u001b[0;34m\u001b[0m\u001b[0m\n\u001b[1;32m    764\u001b[0m     \u001b[0;32melif\u001b[0m \u001b[0mhasattr\u001b[0m\u001b[0;34m(\u001b[0m\u001b[0mfname\u001b[0m\u001b[0;34m,\u001b[0m \u001b[0;34m'seek'\u001b[0m\u001b[0;34m)\u001b[0m\u001b[0;34m:\u001b[0m\u001b[0;34m\u001b[0m\u001b[0m\n",
        "\u001b[0;31mIOError\u001b[0m: [Errno 2] No such file or directory: 'df'"
       ]
      }
     ],
     "prompt_number": 6
    },
    {
     "cell_type": "code",
     "collapsed": false,
     "input": [
      "import pandas as pd\n",
      "\n",
      "import numpy as np\n",
      "\n",
      "import matplotlib as plt\n",
      "import matplotlib.pyplot as mplt\n",
      "x=df[u'PRES']\n",
      "y=df[u'HGHT'] \n",
      "fig= mplt.figure()\n",
      "ax1.plot(x,y,c='b', label='pres vs hgth')\n",
      "leg=ax1.legend()\n",
      "mptl.show()\n",
      " "
     ],
     "language": "python",
     "metadata": {},
     "outputs": [
      {
       "ename": "NameError",
       "evalue": "name 'ax1' is not defined",
       "output_type": "pyerr",
       "traceback": [
        "\u001b[0;31m---------------------------------------------------------------------------\u001b[0m\n\u001b[0;31mNameError\u001b[0m                                 Traceback (most recent call last)",
        "\u001b[0;32m<ipython-input-4-ac85f3671d79>\u001b[0m in \u001b[0;36m<module>\u001b[0;34m()\u001b[0m\n\u001b[1;32m      8\u001b[0m \u001b[0my\u001b[0m\u001b[0;34m=\u001b[0m\u001b[0mdf\u001b[0m\u001b[0;34m[\u001b[0m\u001b[0;34mu'HGHT'\u001b[0m\u001b[0;34m]\u001b[0m\u001b[0;34m\u001b[0m\u001b[0m\n\u001b[1;32m      9\u001b[0m \u001b[0mfig\u001b[0m\u001b[0;34m=\u001b[0m \u001b[0mmplt\u001b[0m\u001b[0;34m.\u001b[0m\u001b[0mfigure\u001b[0m\u001b[0;34m(\u001b[0m\u001b[0;34m)\u001b[0m\u001b[0;34m\u001b[0m\u001b[0m\n\u001b[0;32m---> 10\u001b[0;31m \u001b[0max1\u001b[0m\u001b[0;34m.\u001b[0m\u001b[0mplot\u001b[0m\u001b[0;34m(\u001b[0m\u001b[0mx\u001b[0m\u001b[0;34m,\u001b[0m\u001b[0my\u001b[0m\u001b[0;34m,\u001b[0m\u001b[0mc\u001b[0m\u001b[0;34m=\u001b[0m\u001b[0;34m'b'\u001b[0m\u001b[0;34m,\u001b[0m \u001b[0mlabel\u001b[0m\u001b[0;34m=\u001b[0m\u001b[0;34m'pres vs hgth'\u001b[0m\u001b[0;34m)\u001b[0m\u001b[0;34m\u001b[0m\u001b[0m\n\u001b[0m\u001b[1;32m     11\u001b[0m \u001b[0mleg\u001b[0m\u001b[0;34m=\u001b[0m\u001b[0max1\u001b[0m\u001b[0;34m.\u001b[0m\u001b[0mlegend\u001b[0m\u001b[0;34m(\u001b[0m\u001b[0;34m)\u001b[0m\u001b[0;34m\u001b[0m\u001b[0m\n\u001b[1;32m     12\u001b[0m \u001b[0mmptl\u001b[0m\u001b[0;34m.\u001b[0m\u001b[0mshow\u001b[0m\u001b[0;34m(\u001b[0m\u001b[0;34m)\u001b[0m\u001b[0;34m\u001b[0m\u001b[0m\n",
        "\u001b[0;31mNameError\u001b[0m: name 'ax1' is not defined"
       ]
      }
     ],
     "prompt_number": 4
    },
    {
     "cell_type": "code",
     "collapsed": false,
     "input": [
      "#Presi\u00f3n (hPa) vs. Altura (m)\n",
      "y = df[u'PRES']\n",
      "x = df[u'HGHT']\n",
      "mplt.plot(x, y, c='tomato')\n",
      "mplt.ylabel('Pressure (hPa)')\n",
      "mplt.xlabel('Height (m)')\n",
      "mplt.title('Pressure vs. Height')\n",
      "mplt.grid(True)"
     ],
     "language": "python",
     "metadata": {},
     "outputs": [
      {
       "metadata": {},
       "output_type": "display_data",
       "png": "[encoded data removed]",
       "text": [
        "<matplotlib.figure.Figure at 0x7f1126a9a090>"
       ]
      }
     ],
     "prompt_number": 11
    },
    {
     "cell_type": "code",
     "collapsed": false,
     "input": [
      "#Temperatura (\u00baC) vs. Altura (m)\n",
      "y= df[u'TEMP']\n",
      "x= df[u'HGHT']\n",
      "mplt.plot(x, y, c='teal')\n",
      "mplt.ylabel('Temperature(C)')\n",
      "mplt.xlabel('Height (m)')\n",
      "mplt.title('Temperature vs. Height ')\n",
      "mplt.grid(True)"
     ],
     "language": "python",
     "metadata": {},
     "outputs": [
      {
       "metadata": {},
       "output_type": "display_data",
       "png": "[encoded data removed]",
       "text": [
        "<matplotlib.figure.Figure at 0x7f11241ef790>"
       ]
      }
     ],
     "prompt_number": 15
    },
    {
     "cell_type": "code",
     "collapsed": false,
     "input": [
      "#Temperatura de Roc\u00edo (DWPT \u00baC) vs. Altura (m)\n",
      "y = df[u'DWPT']\n",
      "x = df[u'HGHT']\n",
      "mplt.plot(y, c='darkgreen')\n",
      "mplt.ylabel(' Dew Point (C)')\n",
      "mplt.xlabel('Height (m)')\n",
      "mplt.title('Dew Point vs. Height')\n",
      "mplt.grid(True)"
     ],
     "language": "python",
     "metadata": {},
     "outputs": [
      {
       "metadata": {},
       "output_type": "display_data",
       "png": "[encoded data removed]",
       "text": [
        "<matplotlib.figure.Figure at 0x7f1127137e10>"
       ]
      }
     ],
     "prompt_number": 13
    },
    {
     "cell_type": "code",
     "collapsed": false,
     "input": [
      "#Gr\u00e1ficas de Temperatura y Temperatura de Roc\u00edo en una sola gr\u00e1fica.\n",
      "y = df[u'DWPT']\n",
      "y1= df[u'TEMP']\n",
      "x = df[u'HGHT']\n",
      "mplt.plot(x, y, c='y')\n",
      "mplt.subplots(x,y1, c='r')\n",
      "mplt.ylabel(' Dew Point (C)')\n",
      "mplt.xlabel('Height (m)')\n",
      "mplt.title('Dew Point vs. Height')\n",
      "mplt.grid(True)"
     ],
     "language": "python",
     "metadata": {},
     "outputs": [
      {
       "ename": "TypeError",
       "evalue": "__init__() got an unexpected keyword argument 'c'",
       "output_type": "pyerr",
       "traceback": [
        "\u001b[0;31m---------------------------------------------------------------------------\u001b[0m\n\u001b[0;31mTypeError\u001b[0m                                 Traceback (most recent call last)",
        "\u001b[0;32m<ipython-input-37-0bae4061c93b>\u001b[0m in \u001b[0;36m<module>\u001b[0;34m()\u001b[0m\n\u001b[1;32m      4\u001b[0m \u001b[0mx\u001b[0m \u001b[0;34m=\u001b[0m \u001b[0mdf\u001b[0m\u001b[0;34m[\u001b[0m\u001b[0;34mu'HGHT'\u001b[0m\u001b[0;34m]\u001b[0m\u001b[0;34m\u001b[0m\u001b[0m\n\u001b[1;32m      5\u001b[0m \u001b[0mmplt\u001b[0m\u001b[0;34m.\u001b[0m\u001b[0mplot\u001b[0m\u001b[0;34m(\u001b[0m\u001b[0mx\u001b[0m\u001b[0;34m,\u001b[0m \u001b[0my\u001b[0m\u001b[0;34m,\u001b[0m \u001b[0mc\u001b[0m\u001b[0;34m=\u001b[0m\u001b[0;34m'y'\u001b[0m\u001b[0;34m)\u001b[0m\u001b[0;34m\u001b[0m\u001b[0m\n\u001b[0;32m----> 6\u001b[0;31m \u001b[0mmplt\u001b[0m\u001b[0;34m.\u001b[0m\u001b[0msubplots\u001b[0m\u001b[0;34m(\u001b[0m\u001b[0mx\u001b[0m\u001b[0;34m,\u001b[0m\u001b[0my1\u001b[0m\u001b[0;34m,\u001b[0m \u001b[0mc\u001b[0m\u001b[0;34m=\u001b[0m\u001b[0;34m'r'\u001b[0m\u001b[0;34m)\u001b[0m\u001b[0;34m\u001b[0m\u001b[0m\n\u001b[0m\u001b[1;32m      7\u001b[0m \u001b[0mmplt\u001b[0m\u001b[0;34m.\u001b[0m\u001b[0mylabel\u001b[0m\u001b[0;34m(\u001b[0m\u001b[0;34m' Dew Point (C)'\u001b[0m\u001b[0;34m)\u001b[0m\u001b[0;34m\u001b[0m\u001b[0m\n\u001b[1;32m      8\u001b[0m \u001b[0mmplt\u001b[0m\u001b[0;34m.\u001b[0m\u001b[0mxlabel\u001b[0m\u001b[0;34m(\u001b[0m\u001b[0;34m'Height (m)'\u001b[0m\u001b[0;34m)\u001b[0m\u001b[0;34m\u001b[0m\u001b[0m\n",
        "\u001b[0;32m/usr/lib/python2.7/dist-packages/matplotlib/pyplot.pyc\u001b[0m in \u001b[0;36msubplots\u001b[0;34m(nrows, ncols, sharex, sharey, squeeze, subplot_kw, gridspec_kw, **fig_kw)\u001b[0m\n\u001b[1;32m   1076\u001b[0m         \u001b[0mgridspec_kw\u001b[0m \u001b[0;34m=\u001b[0m \u001b[0;34m{\u001b[0m\u001b[0;34m}\u001b[0m\u001b[0;34m\u001b[0m\u001b[0m\n\u001b[1;32m   1077\u001b[0m \u001b[0;34m\u001b[0m\u001b[0m\n\u001b[0;32m-> 1078\u001b[0;31m     \u001b[0mfig\u001b[0m \u001b[0;34m=\u001b[0m \u001b[0mfigure\u001b[0m\u001b[0;34m(\u001b[0m\u001b[0;34m**\u001b[0m\u001b[0mfig_kw\u001b[0m\u001b[0;34m)\u001b[0m\u001b[0;34m\u001b[0m\u001b[0m\n\u001b[0m\u001b[1;32m   1079\u001b[0m     \u001b[0mgs\u001b[0m \u001b[0;34m=\u001b[0m \u001b[0mGridSpec\u001b[0m\u001b[0;34m(\u001b[0m\u001b[0mnrows\u001b[0m\u001b[0;34m,\u001b[0m \u001b[0mncols\u001b[0m\u001b[0;34m,\u001b[0m \u001b[0;34m**\u001b[0m\u001b[0mgridspec_kw\u001b[0m\u001b[0;34m)\u001b[0m\u001b[0;34m\u001b[0m\u001b[0m\n\u001b[1;32m   1080\u001b[0m \u001b[0;34m\u001b[0m\u001b[0m\n",
        "\u001b[0;32m/usr/lib/python2.7/dist-packages/matplotlib/pyplot.pyc\u001b[0m in \u001b[0;36mfigure\u001b[0;34m(num, figsize, dpi, facecolor, edgecolor, frameon, FigureClass, **kwargs)\u001b[0m\n\u001b[1;32m    433\u001b[0m                                         \u001b[0mframeon\u001b[0m\u001b[0;34m=\u001b[0m\u001b[0mframeon\u001b[0m\u001b[0;34m,\u001b[0m\u001b[0;34m\u001b[0m\u001b[0m\n\u001b[1;32m    434\u001b[0m                                         \u001b[0mFigureClass\u001b[0m\u001b[0;34m=\u001b[0m\u001b[0mFigureClass\u001b[0m\u001b[0;34m,\u001b[0m\u001b[0;34m\u001b[0m\u001b[0m\n\u001b[0;32m--> 435\u001b[0;31m                                         **kwargs)\n\u001b[0m\u001b[1;32m    436\u001b[0m \u001b[0;34m\u001b[0m\u001b[0m\n\u001b[1;32m    437\u001b[0m         \u001b[0;32mif\u001b[0m \u001b[0mfigLabel\u001b[0m\u001b[0;34m:\u001b[0m\u001b[0;34m\u001b[0m\u001b[0m\n",
        "\u001b[0;32m/usr/lib/python2.7/dist-packages/matplotlib/backends/backend_agg.pyc\u001b[0m in \u001b[0;36mnew_figure_manager\u001b[0;34m(num, *args, **kwargs)\u001b[0m\n\u001b[1;32m    425\u001b[0m \u001b[0;34m\u001b[0m\u001b[0m\n\u001b[1;32m    426\u001b[0m     \u001b[0mFigureClass\u001b[0m \u001b[0;34m=\u001b[0m \u001b[0mkwargs\u001b[0m\u001b[0;34m.\u001b[0m\u001b[0mpop\u001b[0m\u001b[0;34m(\u001b[0m\u001b[0;34m'FigureClass'\u001b[0m\u001b[0;34m,\u001b[0m \u001b[0mFigure\u001b[0m\u001b[0;34m)\u001b[0m\u001b[0;34m\u001b[0m\u001b[0m\n\u001b[0;32m--> 427\u001b[0;31m     \u001b[0mthisFig\u001b[0m \u001b[0;34m=\u001b[0m \u001b[0mFigureClass\u001b[0m\u001b[0;34m(\u001b[0m\u001b[0;34m*\u001b[0m\u001b[0margs\u001b[0m\u001b[0;34m,\u001b[0m \u001b[0;34m**\u001b[0m\u001b[0mkwargs\u001b[0m\u001b[0;34m)\u001b[0m\u001b[0;34m\u001b[0m\u001b[0m\n\u001b[0m\u001b[1;32m    428\u001b[0m     \u001b[0;32mreturn\u001b[0m \u001b[0mnew_figure_manager_given_figure\u001b[0m\u001b[0;34m(\u001b[0m\u001b[0mnum\u001b[0m\u001b[0;34m,\u001b[0m \u001b[0mthisFig\u001b[0m\u001b[0;34m)\u001b[0m\u001b[0;34m\u001b[0m\u001b[0m\n\u001b[1;32m    429\u001b[0m \u001b[0;34m\u001b[0m\u001b[0m\n",
        "\u001b[0;31mTypeError\u001b[0m: __init__() got an unexpected keyword argument 'c'"
       ]
      },
      {
       "metadata": {},
       "output_type": "display_data",
       "png": "[encoded data removed]",
       "text": [
        "<matplotlib.figure.Figure at 0x7f31fd67de90>"
       ]
      }
     ],
     "prompt_number": 37
    },
    {
     "cell_type": "code",
     "collapsed": false,
     "input": [
      "import numpy as np\n",
      "import matplotlib.pyplot as plt\n",
      "y = df[u'HGHT']\n",
      "x1 = df[u'DWPT']\n",
      "x2 = df[u'TEMP']\n",
      "\n",
      "fig, ax1 = plt.subplots()\n",
      "ax2 = ax1.twiny()\n",
      "ax1.plot(x1, y, 'g-')\n",
      "ax2.plot(x2, y, 'b-')\n",
      "\n",
      "ax1.set_xlabel('Height (m)')\n",
      "ax1.set_ylabel('Dew Point (C)', color='g')\n",
      "ax2.set_ylabel('Temperature (C)', color='b')\n",
      "mplt.grid(True)\n",
      "\n",
      " "
     ],
     "language": "python",
     "metadata": {},
     "outputs": [
      {
       "ename": "NameError",
       "evalue": "name 'x1lim' is not defined",
       "output_type": "pyerr",
       "traceback": [
        "\u001b[0;31m---------------------------------------------------------------------------\u001b[0m\n\u001b[0;31mNameError\u001b[0m                                 Traceback (most recent call last)",
        "\u001b[0;32m<ipython-input-12-e3471b5ce0fe>\u001b[0m in \u001b[0;36m<module>\u001b[0;34m()\u001b[0m\n\u001b[1;32m      7\u001b[0m \u001b[0mfig\u001b[0m\u001b[0;34m,\u001b[0m \u001b[0max1\u001b[0m \u001b[0;34m=\u001b[0m \u001b[0mplt\u001b[0m\u001b[0;34m.\u001b[0m\u001b[0msubplots\u001b[0m\u001b[0;34m(\u001b[0m\u001b[0;34m)\u001b[0m\u001b[0;34m\u001b[0m\u001b[0m\n\u001b[1;32m      8\u001b[0m \u001b[0max2\u001b[0m \u001b[0;34m=\u001b[0m \u001b[0max1\u001b[0m\u001b[0;34m.\u001b[0m\u001b[0mtwiny\u001b[0m\u001b[0;34m(\u001b[0m\u001b[0;34m)\u001b[0m\u001b[0;34m\u001b[0m\u001b[0m\n\u001b[0;32m----> 9\u001b[0;31m \u001b[0max1\u001b[0m\u001b[0;34m.\u001b[0m\u001b[0mplot\u001b[0m\u001b[0;34m(\u001b[0m\u001b[0mx1\u001b[0m\u001b[0;34m,\u001b[0m \u001b[0my\u001b[0m\u001b[0;34m,\u001b[0m \u001b[0;34m'g-'\u001b[0m\u001b[0;34m,\u001b[0m\u001b[0mx1lim\u001b[0m\u001b[0;34m(\u001b[0m\u001b[0;34m-\u001b[0m\u001b[0;36m100\u001b[0m\u001b[0;34m,\u001b[0m\u001b[0;36m40\u001b[0m\u001b[0;34m)\u001b[0m\u001b[0;34m)\u001b[0m\u001b[0;34m\u001b[0m\u001b[0m\n\u001b[0m\u001b[1;32m     10\u001b[0m \u001b[0max2\u001b[0m\u001b[0;34m.\u001b[0m\u001b[0mplot\u001b[0m\u001b[0;34m(\u001b[0m\u001b[0mx2\u001b[0m\u001b[0;34m,\u001b[0m \u001b[0my\u001b[0m\u001b[0;34m,\u001b[0m \u001b[0;34m'b-'\u001b[0m\u001b[0;34m,\u001b[0m\u001b[0mx2lim\u001b[0m\u001b[0;34m(\u001b[0m\u001b[0;34m-\u001b[0m\u001b[0;36m100\u001b[0m\u001b[0;34m,\u001b[0m\u001b[0;36m40\u001b[0m\u001b[0;34m)\u001b[0m\u001b[0;34m)\u001b[0m\u001b[0;34m\u001b[0m\u001b[0m\n\u001b[1;32m     11\u001b[0m \u001b[0;34m\u001b[0m\u001b[0m\n",
        "\u001b[0;31mNameError\u001b[0m: name 'x1lim' is not defined"
       ]
      },
      {
       "metadata": {},
       "output_type": "display_data",
       "png": "[encoded data removed]",
       "text": [
        "<matplotlib.figure.Figure at 0x7f7bcc5b13d0>"
       ]
      }
     ],
     "prompt_number": 12
    },
    {
     "cell_type": "code",
     "collapsed": false,
     "input": [
      "#Gr\u00e1ficas de Temperatura y Temperatura de Roc\u00edo en una sola gr\u00e1fica.\n",
      "import numpy as np\n",
      "import matplotlib.pyplot as plt\n",
      "y = df[u'HGHT']\n",
      "x1 = df[u'DWPT']\n",
      "x2 = df[u'TEMP']\n",
      "\n",
      " \n",
      "\n",
      "mplt.title('Height (m) vs. Temperature/Dew Point (C)')\n",
      "mplt.ylabel('Height (m)')\n",
      "mplt.xlabel('Temperature/Dew Point (C)')\n",
      "\n",
      "\n",
      "mplt.grid(True)\n",
      "mplt.plot(x1,y,c='purple',label='Dew Point')\n",
      "mplt.plot(x2,y,c='cornflowerblue', label='Temperature')\n",
      "mplt.legend(fancybox=True, shadow=True)\n"
     ],
     "language": "python",
     "metadata": {},
     "outputs": [
      {
       "metadata": {},
       "output_type": "pyout",
       "prompt_number": 14,
       "text": [
        "<matplotlib.legend.Legend at 0x7f11240ebdd0>"
       ]
      },
      {
       "metadata": {},
       "output_type": "display_data",
       "png": "[encoded data removed]",
       "text": [
        "<matplotlib.figure.Figure at 0x7f1126a93dd0>"
       ]
      }
     ],
     "prompt_number": 14
    },
    {
     "cell_type": "code",
     "collapsed": false,
     "input": [],
     "language": "python",
     "metadata": {},
     "outputs": []
    }
   ],
   "metadata": {}
  }
 ]
}